{
 "cells": [
  {
   "cell_type": "markdown",
   "metadata": {},
   "source": [
    "# Basic Snapchat Filter (Cartoon Face Mask)\n",
    "### Completed by Michael Willis in November 2021"
   ]
  },
  {
   "cell_type": "markdown",
   "metadata": {},
   "source": [
    "## Goal: Cartoonify faces in video feed from live webcam\n",
    "\n",
    "### Steps\n",
    "- 1. **Capture video** feed from webcam\n",
    "- 2. **Recognize faces** in the video\n",
    "- 3. **Replace/Mask the face** region with your favorite cartoon character\n",
    "- 4. **Save the video** feed into a video file"
   ]
  },
  {
   "cell_type": "markdown",
   "metadata": {},
   "source": [
    "#### Code to recognize faces"
   ]
  },
  {
   "cell_type": "code",
   "execution_count": 1,
   "metadata": {},
   "outputs": [],
   "source": [
    "import cv2\n",
    "import os"
   ]
  },
  {
   "cell_type": "markdown",
   "metadata": {},
   "source": [
    "#### Import Cartoon Face"
   ]
  },
  {
   "cell_type": "code",
   "execution_count": 2,
   "metadata": {},
   "outputs": [],
   "source": [
    "image = cv2.imread('data/halo_cartoon.jpg')"
   ]
  },
  {
   "cell_type": "markdown",
   "metadata": {},
   "source": [
    "#### Create HAAR Cascade Filters"
   ]
  },
  {
   "cell_type": "code",
   "execution_count": 3,
   "metadata": {},
   "outputs": [],
   "source": [
    "cascPathface = os.path.dirname(\n",
    "    cv2.__file__) + \"/data/haarcascade_frontalface_alt2.xml\"\n",
    "cascPatheyes = os.path.dirname(\n",
    "    cv2.__file__) + \"/data/haarcascade_eye_tree_eyeglasses.xml\"\n",
    "\n",
    "faceCascade = cv2.CascadeClassifier(cascPathface)\n",
    "eyeCascade = cv2.CascadeClassifier(cascPatheyes)"
   ]
  },
  {
   "cell_type": "markdown",
   "metadata": {},
   "source": [
    "#### Putting it all together"
   ]
  },
  {
   "cell_type": "code",
   "execution_count": 4,
   "metadata": {},
   "outputs": [],
   "source": [
    "# Open video capture\n",
    "capture = cv2.VideoCapture(0)\n",
    "\n",
    "# Get height and width of Frame\n",
    "width = capture.get(cv2.CAP_PROP_FRAME_WIDTH)\n",
    "height = capture.get(cv2.CAP_PROP_FRAME_HEIGHT)\n",
    "\n",
    "# Define video codec and file to write capture\n",
    "fourcc = cv2.VideoWriter_fourcc(*\"XVID\")\n",
    "output_capture = cv2.VideoWriter('Mike_Task6_Cartoon_Filter_Output.avi', fourcc, 30.0, (int(width), int(height)))\n",
    "\n",
    "while True:\n",
    "    # Capture frame-by-frame\n",
    "    ret, frame = capture.read()\n",
    "    gray = cv2.cvtColor(frame, cv2.COLOR_BGR2GRAY)\n",
    "    faces = faceCascade.detectMultiScale(gray,\n",
    "                                         scaleFactor=1.1,\n",
    "                                         minNeighbors=5,\n",
    "                                         minSize=(60, 60),\n",
    "                                         flags=cv2.CASCADE_SCALE_IMAGE)\n",
    "    for (x,y,w,h) in faces:\n",
    "        cv2.rectangle(frame, (x, y), (x + w, y + h),(0,255,0), 2)\n",
    "        faceROI = frame[y:y+h,x:x+w]\n",
    "        image_resized = cv2.resize(image, (h, w), interpolation=cv2.INTER_AREA)\n",
    "        # Display the resulting frame\n",
    "        frame[y:y+h,x:x+w] = image_resized\n",
    "        frame = cv2.flip(frame, 90)\n",
    "        cv2.imshow('Face Video', frame)\n",
    "\n",
    "        # Write the file\n",
    "        output_capture.write(frame)\n",
    "    if cv2.waitKey(1) & 0xFF == ord('q'):\n",
    "        break\n",
    "\n",
    "capture.release()\n",
    "cv2.destroyAllWindows()"
   ]
  }
 ],
 "metadata": {
  "interpreter": {
   "hash": "070223d5cfa890bc31d8f4c93152a3e7ff4e038771e7bfad7f8790cc7271ab66"
  },
  "kernelspec": {
   "display_name": "testing",
   "language": "python",
   "name": "python3"
  },
  "language_info": {
   "codemirror_mode": {
    "name": "ipython",
    "version": 3
   },
   "file_extension": ".py",
   "mimetype": "text/x-python",
   "name": "python",
   "nbconvert_exporter": "python",
   "pygments_lexer": "ipython3",
   "version": "3.8.11"
  }
 },
 "nbformat": 4,
 "nbformat_minor": 4
}
